{
  "nbformat": 4,
  "nbformat_minor": 0,
  "metadata": {
    "colab": {
      "provenance": [],
      "include_colab_link": true
    },
    "kernelspec": {
      "name": "python3",
      "display_name": "Python 3"
    },
    "language_info": {
      "name": "python"
    }
  },
  "cells": [
    {
      "cell_type": "markdown",
      "metadata": {
        "id": "view-in-github",
        "colab_type": "text"
      },
      "source": [
        "<a href=\"https://colab.research.google.com/github/sammainahkinya1404/East-Africa-Young-Researchers-School-of-Advanced-Machine-Learning-2025/blob/main/Copy_of_Session_7_demo_Transfer_learning.ipynb\" target=\"_parent\"><img src=\"https://colab.research.google.com/assets/colab-badge.svg\" alt=\"Open In Colab\"/></a>"
      ]
    },
    {
      "cell_type": "markdown",
      "source": [
        "# Example of transfert learning with CIFAR-10 dataset and the model VGG16 trained on ImageNet database"
      ],
      "metadata": {
        "id": "4IMaRSeMG0Ta"
      }
    },
    {
      "cell_type": "code",
      "source": [
        "# Import librairies\n",
        "import torch\n",
        "import torchvision\n",
        "import torch.nn as nn\n",
        "import torch.optim as optim\n",
        "import torchvision.transforms as transforms\n",
        "from torch.utils.data import DataLoader, Subset\n",
        "import matplotlib.pyplot as plt"
      ],
      "metadata": {
        "id": "zDxvYsoNDCiX"
      },
      "execution_count": null,
      "outputs": []
    },
    {
      "cell_type": "markdown",
      "source": [
        "## Preparation of CIFAR-10 dataset"
      ],
      "metadata": {
        "id": "mcGjUK8sHFQw"
      }
    },
    {
      "cell_type": "code",
      "source": [
        "# Define a sequence of transforms to convert the image to a PyTorch tensor and normalize it.\n",
        "transform = transforms.Compose([\n",
        "    transforms.ToTensor(),\n",
        "    transforms.Normalize(mean=[0.485, 0.456, 0.406], std=[0.229, 0.224, 0.225])  # ImageNet stats\n",
        "])"
      ],
      "metadata": {
        "id": "5uqZkvpkHKLH"
      },
      "execution_count": null,
      "outputs": []
    },
    {
      "cell_type": "code",
      "source": [
        "# Load CIFAR-10 dataset\n",
        "train_dataset = torchvision.datasets.CIFAR10(root='./data', train=True, download=True, transform=transform)\n",
        "test_dataset = torchvision.datasets.CIFAR10(root='./data', train=False, download=True, transform=transform)# DataLoader for batching and shuffling\n",
        "\n",
        "# Define the number of images for the subset\n",
        "subset_size = 300\n",
        "all_indices = torch.randperm(len(train_dataset))  # mixed indices\n",
        "train_indices = all_indices[:subset_size]     # keep only subset_size\n",
        "test_indices = torch.randperm(len(test_dataset))[:150] # just half of the images for the test\n",
        "\n",
        "# Keep a small subset of the dataset\n",
        "train_subset = Subset(train_dataset, train_indices)\n",
        "test_subset = Subset(test_dataset, test_indices)\n",
        "\n",
        "BATCH_SIZE = 64 # Define the number of samples per batch\n",
        "\n",
        "# Turn datasets into iterables (batches)\n",
        "train_loader = DataLoader(train_subset, batch_size=BATCH_SIZE, shuffle=True)\n",
        "test_loader = DataLoader(test_subset, batch_size=BATCH_SIZE, shuffle=False)\n",
        "\n",
        "# Display the name of the 10 classes\n",
        "train_dataset.classes"
      ],
      "metadata": {
        "colab": {
          "base_uri": "https://localhost:8080/"
        },
        "id": "Li9FegngHOL5",
        "outputId": "4ced254a-85f6-4175-a4f4-9db8cfbdf4e5"
      },
      "execution_count": null,
      "outputs": [
        {
          "output_type": "stream",
          "name": "stderr",
          "text": [
            "100%|██████████| 170M/170M [00:02<00:00, 72.3MB/s]\n"
          ]
        },
        {
          "output_type": "execute_result",
          "data": {
            "text/plain": [
              "['airplane',\n",
              " 'automobile',\n",
              " 'bird',\n",
              " 'cat',\n",
              " 'deer',\n",
              " 'dog',\n",
              " 'frog',\n",
              " 'horse',\n",
              " 'ship',\n",
              " 'truck']"
            ]
          },
          "metadata": {},
          "execution_count": 3
        }
      ]
    },
    {
      "cell_type": "code",
      "source": [
        "# Visualization of the 10 class\n",
        "fig, axs = plt.subplots(1, 10, figsize=(16, 2))\n",
        "fig.suptitle(\"First Occurrence of Each Class (CIFAR-10)\", fontsize=14)\n",
        "\n",
        "seen_classes = set()\n",
        "shown = 0\n",
        "\n",
        "for img_disp, lbl in train_dataset:\n",
        "    if lbl not in seen_classes:\n",
        "        #img_disp = unnormalize(img)  # undo normalization if needed\n",
        "        img_disp = img_disp.permute(1, 2, 0).clamp(0, 1).numpy()  # CxHxW -> HxWxC\n",
        "        axs[shown].imshow(img_disp)\n",
        "        axs[shown].set_title(train_dataset.classes[lbl])\n",
        "        axs[shown].axis(\"off\")\n",
        "        seen_classes.add(lbl)\n",
        "        shown += 1\n",
        "    if shown == 10:\n",
        "        break\n",
        "\n",
        "plt.tight_layout()\n",
        "plt.show()"
      ],
      "metadata": {
        "colab": {
          "base_uri": "https://localhost:8080/",
          "height": 125
        },
        "id": "RFy6YFkUu25O",
        "outputId": "d42e3de2-d3e5-4fc5-d1a7-2ce0cb73581a"
      },
      "execution_count": null,
      "outputs": [
        {
          "output_type": "display_data",
          "data": {
            "text/plain": [
              "<Figure size 1600x200 with 10 Axes>"
            ],
            "image/png": "[encoded data removed]"
          },
          "metadata": {}
        }
      ]
    },
    {
      "cell_type": "markdown",
      "source": [
        "## Load and modify the pre-trained VGG16 model"
      ],
      "metadata": {
        "id": "F5aPaK1qHaKx"
      }
    },
    {
      "cell_type": "code",
      "source": [
        "# Load pre-trained VGG16 model with trained model weights on ImageNet\n",
        "# available weights are listed on the PyTorch website\n",
        "# https://docs.pytorch.org/vision/stable/models.html\n",
        "model = torchvision.models.vgg16(weights='VGG16_Weights.IMAGENET1K_V1')\n",
        "# Display the structure of the model\n",
        "model"
      ],
      "metadata": {
        "colab": {
          "base_uri": "https://localhost:8080/"
        },
        "id": "UgQsLi5JGugC",
        "outputId": "4f78f4de-13e6-4056-ff28-8a044986f227"
      },
      "execution_count": null,
      "outputs": [
        {
          "output_type": "execute_result",
          "data": {
            "text/plain": [
              "VGG(\n",
              "  (features): Sequential(\n",
              "    (0): Conv2d(3, 64, kernel_size=(3, 3), stride=(1, 1), padding=(1, 1))\n",
              "    (1): ReLU(inplace=True)\n",
              "    (2): Conv2d(64, 64, kernel_size=(3, 3), stride=(1, 1), padding=(1, 1))\n",
              "    (3): ReLU(inplace=True)\n",
              "    (4): MaxPool2d(kernel_size=2, stride=2, padding=0, dilation=1, ceil_mode=False)\n",
              "    (5): Conv2d(64, 128, kernel_size=(3, 3), stride=(1, 1), padding=(1, 1))\n",
              "    (6): ReLU(inplace=True)\n",
              "    (7): Conv2d(128, 128, kernel_size=(3, 3), stride=(1, 1), padding=(1, 1))\n",
              "    (8): ReLU(inplace=True)\n",
              "    (9): MaxPool2d(kernel_size=2, stride=2, padding=0, dilation=1, ceil_mode=False)\n",
              "    (10): Conv2d(128, 256, kernel_size=(3, 3), stride=(1, 1), padding=(1, 1))\n",
              "    (11): ReLU(inplace=True)\n",
              "    (12): Conv2d(256, 256, kernel_size=(3, 3), stride=(1, 1), padding=(1, 1))\n",
              "    (13): ReLU(inplace=True)\n",
              "    (14): Conv2d(256, 256, kernel_size=(3, 3), stride=(1, 1), padding=(1, 1))\n",
              "    (15): ReLU(inplace=True)\n",
              "    (16): MaxPool2d(kernel_size=2, stride=2, padding=0, dilation=1, ceil_mode=False)\n",
              "    (17): Conv2d(256, 512, kernel_size=(3, 3), stride=(1, 1), padding=(1, 1))\n",
              "    (18): ReLU(inplace=True)\n",
              "    (19): Conv2d(512, 512, kernel_size=(3, 3), stride=(1, 1), padding=(1, 1))\n",
              "    (20): ReLU(inplace=True)\n",
              "    (21): Conv2d(512, 512, kernel_size=(3, 3), stride=(1, 1), padding=(1, 1))\n",
              "    (22): ReLU(inplace=True)\n",
              "    (23): MaxPool2d(kernel_size=2, stride=2, padding=0, dilation=1, ceil_mode=False)\n",
              "    (24): Conv2d(512, 512, kernel_size=(3, 3), stride=(1, 1), padding=(1, 1))\n",
              "    (25): ReLU(inplace=True)\n",
              "    (26): Conv2d(512, 512, kernel_size=(3, 3), stride=(1, 1), padding=(1, 1))\n",
              "    (27): ReLU(inplace=True)\n",
              "    (28): Conv2d(512, 512, kernel_size=(3, 3), stride=(1, 1), padding=(1, 1))\n",
              "    (29): ReLU(inplace=True)\n",
              "    (30): MaxPool2d(kernel_size=2, stride=2, padding=0, dilation=1, ceil_mode=False)\n",
              "  )\n",
              "  (avgpool): AdaptiveAvgPool2d(output_size=(7, 7))\n",
              "  (classifier): Sequential(\n",
              "    (0): Linear(in_features=25088, out_features=4096, bias=True)\n",
              "    (1): ReLU(inplace=True)\n",
              "    (2): Dropout(p=0.5, inplace=False)\n",
              "    (3): Linear(in_features=4096, out_features=4096, bias=True)\n",
              "    (4): ReLU(inplace=True)\n",
              "    (5): Dropout(p=0.5, inplace=False)\n",
              "    (6): Linear(in_features=4096, out_features=1000, bias=True)\n",
              "  )\n",
              ")"
            ]
          },
          "metadata": {},
          "execution_count": 11
        }
      ]
    },
    {
      "cell_type": "markdown",
      "source": [
        "We need to modify the last layer so that it corresponds to the number of classes in our task, i.e. 10 classes on CIFAR-10 (compared with 1,000 classes for the model pre-trained on ImageNet). The structure of the model is described in the print. We can see that the last layer is #6 of the `classifier`."
      ],
      "metadata": {
        "id": "VY5Tf5hj0tCd"
      }
    },
    {
      "cell_type": "code",
      "source": [
        "# Modify the classifier for CIFAR-10 (10 classes)\n",
        "model.classifier[6] = nn.Linear(in_features=4096, out_features=10)\n",
        "\n",
        "# Freeze all layers\n",
        "for param in model.parameters():\n",
        "    param.requires_grad = False\n",
        "\n",
        "# Unfreeze layers of the classifier to adapt their weight during training\n",
        "for param in model.classifier.parameters():\n",
        "    param.requires_grad = True"
      ],
      "metadata": {
        "id": "w256VTre0gQQ"
      },
      "execution_count": null,
      "outputs": []
    },
    {
      "cell_type": "markdown",
      "source": [
        "# Train the model"
      ],
      "metadata": {
        "id": "7jVB9wTMbRq2"
      }
    },
    {
      "cell_type": "code",
      "source": [
        "# Set the device\n",
        "device = torch.device('cuda' if torch.cuda.is_available() else 'cpu')\n",
        "model = model.to(device)"
      ],
      "metadata": {
        "id": "w0G6Xi6Lbfmo"
      },
      "execution_count": null,
      "outputs": []
    },
    {
      "cell_type": "code",
      "source": [
        "# Loss function and optimizer\n",
        "criterion = nn.CrossEntropyLoss()\n",
        "optimizer = optim.Adam(model.classifier.parameters(), lr=0.001) # Small learning rate\n",
        "\n",
        "# Training loop\n",
        "epochs = 15\n",
        "for epoch in range(epochs):\n",
        "    # Set the model to training mode\n",
        "    model.train()\n",
        "\n",
        "    # Empty variables for store metrics values\n",
        "    running_loss = 0.0\n",
        "    correct = 0\n",
        "    total = 0\n",
        "\n",
        "    # Iterate through batches of training data\n",
        "    for inputs, labels in train_loader:\n",
        "\n",
        "        # Move variables to the device\n",
        "        inputs, labels = inputs.to(device), labels.to(device)\n",
        "\n",
        "        outputs = model(inputs)  # Perform a forward pass to get model outputs (predictions)\n",
        "        loss = criterion(outputs, labels) # Calculate the loss between the model outputs and the true labels\n",
        "        optimizer.zero_grad() # Zero the gradients of the optimizer\n",
        "        loss.backward()  # Perform backpropagation to calculate gradients\n",
        "        optimizer.step() # Update the model's parameters based on the calculated gradients\n",
        "\n",
        "        running_loss += loss.item() # Add the current batch's loss to the running total loss\n",
        "        _, predicted = outputs.max(1) # Get the index (class label) of the highest scoring prediction for each example\n",
        "        correct += predicted.eq(labels).sum().item() # Compare predicted labels with true labels and count how many are correct\n",
        "        total += labels.size(0) # Add the number of samples in this batch to the total number of processed sample\n",
        "\n",
        "    print(f'Epoch [{epoch+1}/{epochs}], Loss: {running_loss/len(train_loader):.4f}, Accuracy: {100 * correct / total:.2f}%')"
      ],
      "metadata": {
        "colab": {
          "base_uri": "https://localhost:8080/"
        },
        "id": "9Vvfss2YblQn",
        "outputId": "de456304-41e2-43b7-edc1-6f7e66ea06ec"
      },
      "execution_count": null,
      "outputs": [
        {
          "output_type": "stream",
          "name": "stdout",
          "text": [
            "Epoch [1/15], Loss: 8.3008, Accuracy: 8.67%\n",
            "Epoch [2/15], Loss: 2.9426, Accuracy: 44.33%\n",
            "Epoch [3/15], Loss: 2.4795, Accuracy: 53.00%\n",
            "Epoch [4/15], Loss: 1.5613, Accuracy: 61.33%\n",
            "Epoch [5/15], Loss: 1.1425, Accuracy: 67.67%\n",
            "Epoch [6/15], Loss: 1.0170, Accuracy: 76.33%\n",
            "Epoch [7/15], Loss: 0.9784, Accuracy: 79.67%\n",
            "Epoch [8/15], Loss: 0.6405, Accuracy: 81.67%\n",
            "Epoch [9/15], Loss: 0.5612, Accuracy: 84.33%\n",
            "Epoch [10/15], Loss: 0.4550, Accuracy: 88.33%\n",
            "Epoch [11/15], Loss: 0.5769, Accuracy: 86.33%\n",
            "Epoch [12/15], Loss: 0.3978, Accuracy: 90.00%\n",
            "Epoch [13/15], Loss: 0.3289, Accuracy: 90.67%\n",
            "Epoch [14/15], Loss: 0.3303, Accuracy: 93.00%\n",
            "Epoch [15/15], Loss: 0.3695, Accuracy: 91.33%\n"
          ]
        }
      ]
    },
    {
      "cell_type": "markdown",
      "source": [
        "# Evaluate the model"
      ],
      "metadata": {
        "id": "iZxaPBVIbxyj"
      }
    },
    {
      "cell_type": "code",
      "source": [
        "# Evaluate the Model\n",
        "\n",
        "model.eval()\n",
        "correct = 0\n",
        "total = 0\n",
        "with torch.no_grad():\n",
        "    for inputs, labels in test_loader:\n",
        "        inputs, labels = inputs.to(device), labels.to(device)\n",
        "\n",
        "        outputs = model(inputs)\n",
        "        _, predicted = outputs.max(1)\n",
        "        correct += predicted.eq(labels).sum().item()\n",
        "        total += labels.size(0)\n",
        "print(f'Test Accuracy: {100 * correct / total:.2f}%')"
      ],
      "metadata": {
        "colab": {
          "base_uri": "https://localhost:8080/"
        },
        "id": "tDOwZLM8bvTa",
        "outputId": "d2e17fc2-dacb-4a9a-bb7a-a72b850570b8"
      },
      "execution_count": null,
      "outputs": [
        {
          "output_type": "stream",
          "name": "stdout",
          "text": [
            "Test Accuracy: 46.67%\n"
          ]
        }
      ]
    },
    {
      "cell_type": "markdown",
      "source": [
        "# Training from scratch\n",
        "For comparison, we can try training the same dataset on the model from scratch, i.e. without retrieving the trained weights from ImageNet."
      ],
      "metadata": {
        "id": "PgCdNnJU6c6e"
      }
    },
    {
      "cell_type": "code",
      "source": [
        "# Load the model without the weights\n",
        "model_from_scratch = torchvision.models.vgg16(weights=None)\n",
        "\n",
        "# Modify the classifier for CIFAR-10 (10 classes)\n",
        "model_from_scratch.classifier[6] = nn.Linear(in_features=4096, out_features=10)\n",
        "\n",
        "# Move model on device\n",
        "model_from_scratch = model_from_scratch.to(device)\n",
        "\n",
        "# Loss function and optimizer\n",
        "criterion = nn.CrossEntropyLoss()\n",
        "optimizer = optim.Adam(model_from_scratch.classifier.parameters(), lr=0.001) # Small learning rate\n",
        "\n",
        "# Training loop\n",
        "epochs = 5\n",
        "for epoch in range(epochs):\n",
        "    # Set the model to training mode\n",
        "    model_from_scratch.train()\n",
        "\n",
        "    # Empty variables for store metrics values\n",
        "    running_loss = 0.0\n",
        "    correct = 0\n",
        "    total = 0\n",
        "\n",
        "    # Iterate through batches of training data\n",
        "    for inputs, labels in train_loader:\n",
        "\n",
        "        # Move variables to the device\n",
        "        inputs, labels = inputs.to(device), labels.to(device)\n",
        "\n",
        "        outputs = model_from_scratch(inputs)  # Perform a forward pass to get model outputs (predictions)\n",
        "        loss = criterion(outputs, labels) # Calculate the loss between the model outputs and the true labels\n",
        "        optimizer.zero_grad() # Zero the gradients of the optimizer\n",
        "        loss.backward()  # Perform backpropagation to calculate gradients\n",
        "        optimizer.step() # Update the model's parameters based on the calculated gradients\n",
        "\n",
        "        running_loss += loss.item() # Add the current batch's loss to the running total loss\n",
        "        _, predicted = outputs.max(1) # Get the index (class label) of the highest scoring prediction for each example\n",
        "        correct += predicted.eq(labels).sum().item() # Compare predicted labels with true labels and count how many are correct\n",
        "        total += labels.size(0) # Add the number of samples in this batch to the total number of processed sample\n",
        "\n",
        "    print(f'Epoch [{epoch+1}/{epochs}], Loss: {running_loss/len(train_loader):.4f}, Accuracy: {100 * correct / total:.2f}%')\n",
        "\n",
        "# Evaluate the model\n",
        "model_from_scratch.eval()\n",
        "correct = 0\n",
        "total = 0\n",
        "with torch.no_grad():\n",
        "    for inputs, labels in test_loader:\n",
        "        inputs, labels = inputs.to(device), labels.to(device)\n",
        "\n",
        "        outputs = model_from_scratch(inputs)\n",
        "        _, predicted = outputs.max(1)\n",
        "        correct += predicted.eq(labels).sum().item()\n",
        "        total += labels.size(0)\n",
        "print(f'Test Accuracy: {100 * correct / total:.2f}%')"
      ],
      "metadata": {
        "colab": {
          "base_uri": "https://localhost:8080/"
        },
        "id": "r3uitS4M7UwA",
        "outputId": "1f1832f3-7d0b-4dc0-b957-0c8caa1d0512"
      },
      "execution_count": null,
      "outputs": [
        {
          "output_type": "stream",
          "name": "stdout",
          "text": [
            "Epoch [1/5], Loss: 4.0441, Accuracy: 9.67%\n",
            "Epoch [2/5], Loss: 2.3696, Accuracy: 10.67%\n",
            "Epoch [3/5], Loss: 2.3072, Accuracy: 11.33%\n",
            "Epoch [4/5], Loss: 2.3207, Accuracy: 9.67%\n",
            "Epoch [5/5], Loss: 2.3084, Accuracy: 13.67%\n",
            "Test Accuracy: 12.67%\n"
          ]
        }
      ]
    },
    {
      "cell_type": "markdown",
      "source": [
        "# Hands-on practice\n",
        "By groupe, work on the fruits dataset you created earlier and train it from learning transfer. You can test other models if you wish, or include data augmentation."
      ],
      "metadata": {
        "id": "R_6_IOY3910P"
      }
    }
  ]
}